{
  "nbformat": 4,
  "nbformat_minor": 0,
  "metadata": {
    "colab": {
      "provenance": [],
      "include_colab_link": true
    },
    "kernelspec": {
      "name": "python3",
      "display_name": "Python 3"
    },
    "language_info": {
      "name": "python"
    }
  },
  "cells": [
    {
      "cell_type": "markdown",
      "metadata": {
        "id": "view-in-github",
        "colab_type": "text"
      },
      "source": [
        "<a href=\"https://colab.research.google.com/github/Kerdis/CSA_REP/blob/main/functions.ipynb\" target=\"_parent\"><img src=\"https://colab.research.google.com/assets/colab-badge.svg\" alt=\"Open In Colab\"/></a>"
      ]
    },
    {
      "cell_type": "markdown",
      "source": [
        "### **Introduction to Functions**\n",
        "\n",
        "In programming, a function is a self-contained block of code that encapsulates a specific task or related group of tasks. Functions are essential for breaking down complex tasks into smaller, more manageable parts.\n",
        "\n",
        "Advantages of using functions:\n",
        "- **Modularity:** Break down complex tasks into smaller, reusable chunks.\n",
        "- **Reusability:** Write once, use multiple times.\n",
        "- **Maintainability:** Easier to fix issues in one centralized location.\n",
        "- **Abstraction:** Hide complex implementation details, presenting a simple interface.\n",
        "\n",
        "---\n",
        "\n",
        "### **Defining and Calling Functions**\n",
        "\n",
        "**1. Defining a Function:**\n",
        "\n",
        "Use the `def` keyword followed by a function name, parentheses, and a colon. The code block within every function is indented.\n",
        "\n",
        "```python\n",
        "def greet():\n",
        "    print(\"Hello, World!\")\n",
        "```\n",
        "\n",
        "**2. Calling a Function:**\n",
        "\n",
        "To execute the function's code, use the function name followed by parentheses.\n",
        "\n",
        "```python\n",
        "greet()  # This will print \"Hello, World!\"\n",
        "```\n",
        "\n",
        "---\n",
        "\n",
        "### **Parameters and Return Values**\n",
        "\n",
        "**1. Parameters:**\n",
        "\n",
        "Functions can take inputs, known as parameters, to process and potentially use in its task.\n",
        "\n",
        "```python\n",
        "def greet(name):\n",
        "    print(f\"Hello, {name}!\")\n",
        "```\n",
        "\n",
        "**2. Return Values:**\n",
        "\n",
        "Functions can also return results to the caller using the `return` keyword. If no return statement is provided, the function will return `None` by default.\n",
        "\n",
        "```python\n",
        "def add(a, b):\n",
        "    return a + b\n",
        "```\n",
        "\n",
        "---"
      ],
      "metadata": {
        "id": "9G7BXlQXQQ9X"
      }
    },
    {
      "cell_type": "markdown",
      "source": [
        "### **Practice Exercises:**\n",
        "\n",
        "1. **Hello Name:**\n",
        "   - Define a function that takes a name as a parameter and prints \"Hello, [Name]!\".\n",
        "   \n"
      ],
      "metadata": {
        "id": "tBNd71f_yRYF"
      }
    },
    {
      "cell_type": "code",
      "source": [
        "#ex1\n",
        "def greet(name):\n",
        "    print(f\"Hello, {name}!\")\n",
        "\n",
        "greet(\"Jeff\")"
      ],
      "metadata": {
        "id": "8lYZuO2CyUqd",
        "outputId": "8f94aadf-c074-45c0-e4cb-2ee61dece32d",
        "colab": {
          "base_uri": "https://localhost:8080/"
        }
      },
      "execution_count": 21,
      "outputs": [
        {
          "output_type": "stream",
          "name": "stdout",
          "text": [
            "Hello, Jeff!\n"
          ]
        }
      ]
    },
    {
      "cell_type": "markdown",
      "source": [
        "2. **Area of a Circle:**\n",
        "   - Define a function that calculates the area of a circle given its radius.\n",
        "\n"
      ],
      "metadata": {
        "id": "c58v6-epyVNf"
      }
    },
    {
      "cell_type": "code",
      "source": [
        "#ex2\n",
        "def circ(rad):\n",
        "    print(f\"Area is {rad*2*3.14}!\")\n",
        "\n",
        "circ(4)"
      ],
      "metadata": {
        "id": "DHoK_BaVyfgL",
        "outputId": "45620920-1438-4d59-e1d2-dfe21a5becdb",
        "colab": {
          "base_uri": "https://localhost:8080/"
        }
      },
      "execution_count": 24,
      "outputs": [
        {
          "output_type": "stream",
          "name": "stdout",
          "text": [
            "Area is 25.12!\n"
          ]
        }
      ]
    },
    {
      "cell_type": "markdown",
      "source": [
        "3. **String Reverser:**\n",
        "   - Write a function that returns the reverse of a given string.\n",
        "\n"
      ],
      "metadata": {
        "id": "wUDhG3X5yiJW"
      }
    },
    {
      "cell_type": "code",
      "source": [
        "#ex3\n",
        "\n",
        "\n"
      ],
      "metadata": {
        "id": "f7I9hlbSykBG"
      },
      "execution_count": 30,
      "outputs": []
    },
    {
      "cell_type": "markdown",
      "source": [
        "4. **List Multiplier:**\n",
        "   - Write a function that takes a list and a number as parameters. The function should return a new list where each element is multiplied by the number.\n",
        "\n"
      ],
      "metadata": {
        "id": "Z7trQ7wCyluv"
      }
    },
    {
      "cell_type": "code",
      "source": [
        "#ex4\n",
        "def"
      ],
      "metadata": {
        "id": "QcK55imVynU8"
      },
      "execution_count": null,
      "outputs": []
    },
    {
      "cell_type": "markdown",
      "source": [
        "5. **Prime Checker:**\n",
        "   - Create a function that checks if a number is prime. If prime, it should return `True`, otherwise `False`.\n",
        "\n"
      ],
      "metadata": {
        "id": "cIZyRI10yogs"
      }
    },
    {
      "cell_type": "code",
      "source": [
        "#ex5\n",
        "def prime(number):\n",
        "  if number==1:\n",
        "    return False\n",
        "  if number==2:\n",
        "    return True\n",
        "  for i in range(2, number):\n",
        "      if number % i == 0:\n",
        "          return False\n",
        "      return True\n",
        "\n",
        "prime(27)"
      ],
      "metadata": {
        "id": "6bs6XxzSyprq",
        "outputId": "ae17cc02-0af5-4001-fc2c-12bd6c2e17cd",
        "colab": {
          "base_uri": "https://localhost:8080/"
        }
      },
      "execution_count": 87,
      "outputs": [
        {
          "output_type": "execute_result",
          "data": {
            "text/plain": [
              "True"
            ]
          },
          "metadata": {},
          "execution_count": 87
        }
      ]
    },
    {
      "cell_type": "markdown",
      "source": [
        "6. **Factorial Calculator:**\n",
        "   - Write a function that calculates the factorial of a number.\n",
        "\n"
      ],
      "metadata": {
        "id": "-g_xki8tyrjp"
      }
    },
    {
      "cell_type": "code",
      "source": [
        "#ex6\n",
        "def fact(num):\n",
        ""
      ],
      "metadata": {
        "id": "y3dO2HWdyswx"
      },
      "execution_count": null,
      "outputs": []
    },
    {
      "cell_type": "markdown",
      "source": [
        "7. **Age in Dog Years:**\n",
        "   - Define a function that converts human years to dog years (1 human year = 7 dog years).\n",
        "\n"
      ],
      "metadata": {
        "id": "6XrVk9wzywM2"
      }
    },
    {
      "cell_type": "code",
      "source": [
        "#ex7\n",
        "def calc(dog_age):\n",
        "  print(f\"Dog years: {dog_age*7}\")\n",
        "\n",
        "calc(5)"
      ],
      "metadata": {
        "id": "Uplmvk7Syxno",
        "outputId": "9e026346-8829-444b-9acb-e3bc82320681",
        "colab": {
          "base_uri": "https://localhost:8080/"
        }
      },
      "execution_count": 49,
      "outputs": [
        {
          "output_type": "stream",
          "name": "stdout",
          "text": [
            "Dog years: 35\n"
          ]
        }
      ]
    },
    {
      "cell_type": "markdown",
      "source": [
        "8. **Temperature Converter:**\n",
        "   - Create a function that converts Celsius to Fahrenheit.\n",
        "\n"
      ],
      "metadata": {
        "id": "yzhpfw4Syzdc"
      }
    },
    {
      "cell_type": "code",
      "source": [
        "#ex8\n",
        "def temp(temp):\n",
        "  fahr = temp*9/5 + 32\n",
        "  return fahr\n",
        "\n",
        "temp(36)"
      ],
      "metadata": {
        "id": "v-7DVKBWy0yK",
        "outputId": "0dd457df-a86c-4d77-e330-631ade28d505",
        "colab": {
          "base_uri": "https://localhost:8080/"
        }
      },
      "execution_count": 57,
      "outputs": [
        {
          "output_type": "execute_result",
          "data": {
            "text/plain": [
              "96.8"
            ]
          },
          "metadata": {},
          "execution_count": 57
        }
      ]
    },
    {
      "cell_type": "markdown",
      "source": [
        "9. **String Repeater:**\n",
        "   - Define a function that takes a string and a number, then returns the string repeated that number of times.\n",
        "\n"
      ],
      "metadata": {
        "id": "kQlt7ezky1_Z"
      }
    },
    {
      "cell_type": "code",
      "source": [
        "#ex9\n",
        "def rep(word, num):\n",
        "  name = word*num\n",
        "  return name\n",
        "\n",
        "rep(\"Kerdis\", 8)"
      ],
      "metadata": {
        "id": "n23sdrE8y3an",
        "outputId": "1c05500d-0cd0-46f2-e345-ea22f850669c",
        "colab": {
          "base_uri": "https://localhost:8080/",
          "height": 35
        }
      },
      "execution_count": 60,
      "outputs": [
        {
          "output_type": "execute_result",
          "data": {
            "text/plain": [
              "'KerdisKerdisKerdisKerdisKerdisKerdisKerdisKerdis'"
            ],
            "application/vnd.google.colaboratory.intrinsic+json": {
              "type": "string"
            }
          },
          "metadata": {},
          "execution_count": 60
        }
      ]
    },
    {
      "cell_type": "markdown",
      "source": [
        "10. **List Average:**\n",
        "   - Write a function that calculates the average of a list of numbers.\n"
      ],
      "metadata": {
        "id": "PrcszXAay4e0"
      }
    },
    {
      "cell_type": "code",
      "source": [
        "#ex10\n",
        "def avg(num):\n",
        "  aver = sum(num)/len(num)\n",
        "  return aver\n",
        "\n",
        "list1 = [1, 3, 4, 5, 2]\n",
        "\n",
        "avg(list1)"
      ],
      "metadata": {
        "id": "LSG5y_X-y54t",
        "outputId": "fe256553-316f-4ce5-fe7e-a8246abceddf",
        "colab": {
          "base_uri": "https://localhost:8080/"
        }
      },
      "execution_count": 62,
      "outputs": [
        {
          "output_type": "execute_result",
          "data": {
            "text/plain": [
              "3.0"
            ]
          },
          "metadata": {},
          "execution_count": 62
        }
      ]
    }
  ]
}