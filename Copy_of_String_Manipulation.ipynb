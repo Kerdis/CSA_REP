{
  "nbformat": 4,
  "nbformat_minor": 0,
  "metadata": {
    "colab": {
      "provenance": [],
      "include_colab_link": true
    },
    "kernelspec": {
      "name": "python3",
      "display_name": "Python 3"
    },
    "language_info": {
      "name": "python"
    }
  },
  "cells": [
    {
      "cell_type": "markdown",
      "metadata": {
        "id": "view-in-github",
        "colab_type": "text"
      },
      "source": [
        "<a href=\"https://colab.research.google.com/github/Kerdis/CSA_REP/blob/main/Copy_of_String_Manipulation.ipynb\" target=\"_parent\"><img src=\"https://colab.research.google.com/assets/colab-badge.svg\" alt=\"Open In Colab\"/></a>"
      ]
    },
    {
      "cell_type": "markdown",
      "source": [
        "### **String Manipulation: Concatenation and Repetition**\n",
        "\n",
        "**String Concatenation:**\n",
        "- **Definition:** Combining two or more strings end-to-end.\n",
        "- **Operator:** The `+` operator is used for string concatenation.\n",
        "- **Example:**\n",
        "  ```python\n",
        "  first_name = \"John\"\n",
        "  last_name = \"Doe\"\n",
        "  full_name = first_name + \" \" + last_name  # Results in \"John Doe\"\n",
        "  ```\n",
        "\n",
        "**String Repetition:**\n",
        "- **Definition:** Repeating a string multiple times.\n",
        "- **Operator:** The `*` operator is used for string repetition.\n",
        "- **Example:**\n",
        "  ```python\n",
        "  word = \"echo\"\n",
        "  repeated_word = word * 3  # Results in \"echoechoecho\"\n",
        "  ```"
      ],
      "metadata": {
        "id": "XP9wGbNUyyQw"
      }
    },
    {
      "cell_type": "markdown",
      "source": [
        "**Practice:**\n",
        "1. **Fruit Salad:** Ask the user for their two favorite fruits. Concatenate them to form a new fruit name.\n",
        "\n"
      ],
      "metadata": {
        "id": "1-CbJq8Ey6zA"
      }
    },
    {
      "cell_type": "code",
      "source": [
        "#Ex1\n",
        "\n",
        "f1 = input(\"Fruit 1: \")\n",
        "f2 = input(\"Fruit 2: \")\n",
        "\n",
        "print(f1 + \" \" + f2)"
      ],
      "metadata": {
        "id": "aamagxLxy-Yj",
        "colab": {
          "base_uri": "https://localhost:8080/"
        },
        "outputId": "10bd193e-7668-46f6-ddb4-f203dfb83635"
      },
      "execution_count": null,
      "outputs": [
        {
          "output_type": "stream",
          "name": "stdout",
          "text": [
            "Fruit 1: watermelon\n",
            "Fruit 2: apple\n",
            "watermelon apple\n"
          ]
        }
      ]
    },
    {
      "cell_type": "markdown",
      "source": [
        "\n",
        "2. **Echo Chamber:** Ask the user for a word and a number. Repeat the word as many times as the number they've provided."
      ],
      "metadata": {
        "id": "sXAvgbTCzAs-"
      }
    },
    {
      "cell_type": "code",
      "source": [
        "#Ex2\n",
        "\n",
        "word = input(\"Word: \")\n",
        "num = int(input(\"num: \"))\n",
        "\n",
        "print(word*num)"
      ],
      "metadata": {
        "id": "otlrxyquzCrb"
      },
      "execution_count": null,
      "outputs": []
    },
    {
      "cell_type": "markdown",
      "source": [
        "\n",
        "3. **Full Name Formatter:** Ask the user for their first name, middle name, and last name. Display their full name by concatenating these strings."
      ],
      "metadata": {
        "id": "LqkkcBxuzERf"
      }
    },
    {
      "cell_type": "code",
      "source": [
        "#Ex3\n",
        "\n",
        "first = input(\"First Name: \")\n",
        "mid_name = input(\"Middle Name: \")\n",
        "last_name = input(\"Last Name: \")\n",
        "\n",
        "print(first + \" \" + mid_name + \" \" + last_name)"
      ],
      "metadata": {
        "id": "pTtJKK9dzFRp",
        "colab": {
          "base_uri": "https://localhost:8080/"
        },
        "outputId": "dd33b839-03dc-48cd-c268-a5a283cb8c33"
      },
      "execution_count": null,
      "outputs": [
        {
          "output_type": "stream",
          "name": "stdout",
          "text": [
            "First Name: kerdis\n",
            "Middle Name: michael\n",
            "Last Name: jordan\n",
            "kerdis michael jordan\n"
          ]
        }
      ]
    },
    {
      "cell_type": "markdown",
      "source": [
        "### **Basic String Methods**\n",
        "\n",
        "**String Methods:**\n",
        "- **Definition:** Built-in functions in Python that can be called on a string to perform specific operations.\n",
        "- **Common Methods:**\n",
        "  - `upper()`: Converts the string to uppercase.\n",
        "  - `lower()`: Converts the string to lowercase.\n",
        "  - `title()`: Converts the string to title case (first letter of each word is capitalized).\n",
        "  - `len()`: Returns the length of the string.\n",
        "\n",
        "**String Slicing and Indexing:**\n",
        "- **Indexing:** Accessing a single character in a string using its position. Python string indices start at 0.\n",
        "  ```python\n",
        "  word = \"python\"\n",
        "  first_letter = word[0]  # Results in \"p\"\n",
        "  ```\n",
        "- **Slicing:** Accessing a range of characters in a string.\n",
        "  ```python\n",
        "  word = \"python\"\n",
        "  slice_word = word[1:4]  # Results in \"yth\"\n",
        "  ```\n",
        "\n",
        "\n"
      ],
      "metadata": {
        "id": "PbFzoj9EzHCn"
      }
    },
    {
      "cell_type": "markdown",
      "source": [
        "**Practice:**\n",
        "1. **Name Formatter:**\n",
        "   - Ask the user for their full name.\n",
        "   - Display their name in uppercase, lowercase, and title case.\n",
        "   - Show the length of their name."
      ],
      "metadata": {
        "id": "PqvCHbWkzbcK"
      }
    },
    {
      "cell_type": "code",
      "source": [
        "#Ex1\n",
        "\n",
        "full_name = input(\"Full name: \")\n",
        "print(full_name.upper())\n",
        "print(full_name.lower())\n",
        "print(full_name.title())"
      ],
      "metadata": {
        "id": "gyuRgCP-zZDV",
        "colab": {
          "base_uri": "https://localhost:8080/"
        },
        "outputId": "b302d4f5-18db-45cb-fddf-b65a823be8f5"
      },
      "execution_count": null,
      "outputs": [
        {
          "output_type": "stream",
          "name": "stdout",
          "text": [
            "Full name: michael jeffrey jordan\n",
            "MICHAEL JEFFREY JORDAN\n",
            "michael jeffrey jordan\n",
            "Michael Jeffrey Jordan\n"
          ]
        }
      ]
    },
    {
      "cell_type": "markdown",
      "source": [
        "2. **Initials Extractor:**\n",
        "   - Ask the user for their first name and last name.\n",
        "   - Display their initials by extracting the first character from both names."
      ],
      "metadata": {
        "id": "m5XX1vRzzd-1"
      }
    },
    {
      "cell_type": "code",
      "source": [
        "#Ex2\n",
        "\n",
        "first = input(\"First Name: \")\n",
        "last_name = input(\"Last Name: \")\n",
        "\n",
        "print(first[0], last_name[0])\n"
      ],
      "metadata": {
        "id": "0RegpgLazf1R",
        "colab": {
          "base_uri": "https://localhost:8080/"
        },
        "outputId": "c6c051cb-b99c-46ce-eb2b-328987fd8c04"
      },
      "execution_count": null,
      "outputs": [
        {
          "output_type": "stream",
          "name": "stdout",
          "text": [
            "First Name: Kerdis\n",
            "Last Name: Pan\n",
            "K P\n"
          ]
        }
      ]
    },
    {
      "cell_type": "markdown",
      "source": [
        "*CHALLENGE!!!\n",
        "This is a tough one that requires concepts we have not learnt in class yet!*\n",
        "3. **Secret Code:**\n",
        "   - Ask the user for a word.\n",
        "   - Display the word with every second letter in uppercase and the others in lowercase."
      ],
      "metadata": {
        "id": "moPvuFqJzhNz"
      }
    },
    {
      "cell_type": "code",
      "source": [
        "#Ex3\n",
        "\n",
        "word = input(\"Word: \")\n",
        "\n",
        "\n",
        "\n",
        "\n"
      ],
      "metadata": {
        "id": "Hl77BxQxziQL"
      },
      "execution_count": null,
      "outputs": []
    }
  ]
}