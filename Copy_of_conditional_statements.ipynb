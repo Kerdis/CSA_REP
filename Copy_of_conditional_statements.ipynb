{
  "nbformat": 4,
  "nbformat_minor": 0,
  "metadata": {
    "colab": {
      "provenance": [],
      "include_colab_link": true
    },
    "kernelspec": {
      "name": "python3",
      "display_name": "Python 3"
    },
    "language_info": {
      "name": "python"
    }
  },
  "cells": [
    {
      "cell_type": "markdown",
      "metadata": {
        "id": "view-in-github",
        "colab_type": "text"
      },
      "source": [
        "<a href=\"https://colab.research.google.com/github/Kerdis/CSA_REP/blob/main/Copy_of_conditional_statements.ipynb\" target=\"_parent\"><img src=\"https://colab.research.google.com/assets/colab-badge.svg\" alt=\"Open In Colab\"/></a>"
      ]
    },
    {
      "cell_type": "markdown",
      "source": [
        "### **Introduction to Conditional Statements**\n",
        "\n",
        "Conditional statements allow a program to evaluate specific conditions and make decisions based on those conditions. They introduce the concept of branching, where a program can follow different paths of execution based on certain criteria.\n",
        "\n",
        "---\n",
        "\n",
        "### **Understanding if, elif, and else Statements**\n",
        "\n",
        "**1. `if` Statement:**\n",
        "- The most basic type of conditional statement.\n",
        "- Evaluates a condition, and if it's `True`, the code inside the `if` block is executed.\n",
        "\n",
        "  **Example:**\n",
        "  ```python\n",
        "  age = 20\n",
        "  if age >= 18:\n",
        "      print(\"You are an adult!\")\n",
        "  ```\n",
        "\n",
        "**2. `elif` Statement:**\n",
        "- Short for \"else if\".\n",
        "- Used to check multiple conditions after the initial `if` condition.\n",
        "- The `elif` block is executed if its condition is `True`.\n",
        "\n",
        "  **Example:**\n",
        "  ```python\n",
        "  score = 85\n",
        "  if score >= 90:\n",
        "      grade = \"A\"\n",
        "  elif score >= 80:\n",
        "      grade = \"B\"\n",
        "  ```\n",
        "\n",
        "**3. `else` Statement:**\n",
        "- Catches anything which isn't caught by the preceding conditions.\n",
        "- Does not have a condition attached to it.\n",
        "\n",
        "  **Example:**\n",
        "  ```python\n",
        "  age = 15\n",
        "  if age >= 18:\n",
        "      print(\"You are an adult!\")\n",
        "  else:\n",
        "      print(\"You are a minor!\")\n",
        "  ```\n",
        "\n",
        "---\n",
        "\n",
        "### **Writing Conditions Using Comparison Operators**\n",
        "\n",
        "**1. `==`:** Checks if two values are equal.\n",
        "  - **Example:** `x == y`\n",
        "\n",
        "**2. `!=`:** Checks if two values are not equal.\n",
        "  - **Example:** `x != y`\n",
        "\n",
        "**3. `>`:** Checks if the value on the left is greater than the one on the right.\n",
        "  - **Example:** `x > y`\n",
        "\n",
        "**4. `<`:** Checks if the value on the left is less than the one on the right.\n",
        "  - **Example:** `x < y`\n",
        "\n",
        "**5. `>=`:** Checks if the value on the left is greater than or equal to the one on the right.\n",
        "  - **Example:** `x >= y`\n",
        "\n",
        "**6. `<=`:** Checks if the value on the left is less than or equal to the one on the right.\n",
        "  - **Example:** `x <= y`\n",
        "\n",
        "---\n"
      ],
      "metadata": {
        "id": "CjxdWcqxPhy0"
      }
    },
    {
      "cell_type": "markdown",
      "source": [
        "\n",
        "### **Practice Exercises:**\n",
        "\n",
        "1. **Weekday or Weekend:**\n",
        "    - Ask the user to input a day of the week (e.g., Monday, Tuesday, etc.).\n",
        "    - Inform them if the day is a weekday or a weekend.\n",
        "\n"
      ],
      "metadata": {
        "id": "Jim4Rsi7Pn0G"
      }
    },
    {
      "cell_type": "code",
      "source": [
        "day_of_week = input(\"Input a day of the week: \")\n",
        "if day_of_week ==  \"Saturday\":\n",
        "  print(\"It's weekend!\")\n",
        "elif day_of_week == \"Sunday\":\n",
        "  print(\"It's weekend!\")\n",
        "else:\n",
        "  print(\"It's a weekday!\")"
      ],
      "metadata": {
        "id": "TkrdpDJXRKeJ",
        "colab": {
          "base_uri": "https://localhost:8080/"
        },
        "outputId": "399abb97-5a50-4fad-af85-e895716b8bdf"
      },
      "execution_count": null,
      "outputs": [
        {
          "output_type": "stream",
          "name": "stdout",
          "text": [
            "Input a day of the week: Monday\n",
            "It's a weekday!\n"
          ]
        }
      ]
    },
    {
      "cell_type": "markdown",
      "source": [
        "2. **Password Strength Checker:**\n",
        "    - Ask the user to input a password.\n",
        "    - Check if the password has at least 8 characters, starts with an uppercase letter, and ends with a number. Provide feedback on its strength.\n"
      ],
      "metadata": {
        "id": "1JPiLpsURKzz"
      }
    },
    {
      "cell_type": "code",
      "source": [
        "pword = input(\"Input a password: \")\n",
        "if len(pword) >= 8:\n",
        "  print(\"Has 8 characters\")\n",
        "else:\n",
        "  print(\"Needs 8 characters\")\n",
        "\n",
        "if pword[0].isupper():\n",
        "  print(\"First letter is capital\")\n",
        "else:\n",
        "   print(\"First letter needs to be capitalized\")\n",
        "\n",
        "if pword[-1].isdigit():\n",
        "  print(\"Has at least 1 number.\")\n",
        "else:\n",
        "  print(\"Needs at least 1 number.\")"
      ],
      "metadata": {
        "id": "sHB4UhrHRMy5",
        "colab": {
          "base_uri": "https://localhost:8080/"
        },
        "outputId": "9a3808ce-5dc1-498e-9673-b182adcd2fca"
      },
      "execution_count": null,
      "outputs": [
        {
          "output_type": "stream",
          "name": "stdout",
          "text": [
            "Input a password: Chiawekn123\n",
            "Has 8 characters\n",
            "First letter is capital\n",
            "Has at least 1 number.\n"
          ]
        }
      ]
    },
    {
      "cell_type": "markdown",
      "source": [
        "3. **Movie Ticket Pricing:**\n",
        "    - Movie theaters often have different pricing depending on age groups.\n",
        "    - Children under 12: $5, Teens (12-17): $7, Adults (18-59): $10, Seniors (60+): $6.\n",
        "    - Ask the user for their age and tell them the cost of a movie ticket.\n"
      ],
      "metadata": {
        "id": "QABbfxrVRNfo"
      }
    },
    {
      "cell_type": "code",
      "source": [
        "age = int(input(\"What is your age? \"))\n",
        "if age <= 17:\n",
        "  print(\"Your ticket price is $5\")\n",
        "elif age <= 59:\n",
        "  print(\"Your ticket price is $10\")\n",
        "else:\n",
        "  print(\"Your ticket price is $6\")"
      ],
      "metadata": {
        "id": "-i4B1AYyRPGp",
        "colab": {
          "base_uri": "https://localhost:8080/"
        },
        "outputId": "aaeb522a-2860-4706-8d6f-f06253e0aa48"
      },
      "execution_count": null,
      "outputs": [
        {
          "output_type": "stream",
          "name": "stdout",
          "text": [
            "What is your age? 71\n",
            "Your ticket price is $6\n"
          ]
        }
      ]
    },
    {
      "cell_type": "markdown",
      "source": [
        "4. **Tax Calculator:**\n",
        "    - Depending on the amount of income, people are taxed at different rates.\n",
        "    - Income up to $10,000: No tax, Income $10,001-$50,000: 10% tax, Income $50,001 and above: 20% tax.\n",
        "    - Ask the user for their income and calculate the tax they owe.\n",
        "\n"
      ],
      "metadata": {
        "id": "4RMhCDsXRPTO"
      }
    },
    {
      "cell_type": "code",
      "source": [
        "inc = int(input(\"What is your income? \"))\n",
        "if inc <= 10000:\n",
        "  print(\"No tax\")\n",
        "elif inc <= 50000:\n",
        "  print(\"You owe $\", inc*0.01)\n",
        "else:\n",
        "  print(\"You owe $\", inc*0.02)"
      ],
      "metadata": {
        "id": "ijEDRr8FRSm0",
        "colab": {
          "base_uri": "https://localhost:8080/"
        },
        "outputId": "e06effde-ddbc-401b-feaa-dcf22f0a1d4e"
      },
      "execution_count": null,
      "outputs": [
        {
          "output_type": "stream",
          "name": "stdout",
          "text": [
            "What is your income? 12313123\n",
            "You owe $ 246262.46\n"
          ]
        }
      ]
    },
    {
      "cell_type": "markdown",
      "source": [
        "5. **Discount Eligibility:**\n",
        "    - A store offers a discount to students and senior citizens.\n",
        "    - Ask the user if they are a student or a senior citizen (yes or no for each). If they answer \"yes\" to either, inform them they are eligible for a discount.\n",
        "\n"
      ],
      "metadata": {
        "id": "qonCcp_PRTDL"
      }
    },
    {
      "cell_type": "code",
      "source": [
        "inc = input(\"Are you a student? Yes or No \")\n",
        "inc2 = input(\"Are you a senior citizen? Yes or No \")\n",
        "if inc == \"Yes\":\n",
        "  print(\"You are eligible for a discount\")\n",
        "elif inc2 == \"Yes\":\n",
        "  print(\"You are eligible for a discount\")\n",
        "else:\n",
        "  print(\"You are not eligible for a discount\")"
      ],
      "metadata": {
        "id": "5YBnUfs-RUku",
        "colab": {
          "base_uri": "https://localhost:8080/"
        },
        "outputId": "81a454d1-8f38-4d0b-ddd8-11098e11192d"
      },
      "execution_count": null,
      "outputs": [
        {
          "output_type": "stream",
          "name": "stdout",
          "text": [
            "Are you a student? Yes or No Yes\n",
            "Are you a senior citizen? Yes or No No\n",
            "You are eligible for a discount\n"
          ]
        }
      ]
    },
    {
      "cell_type": "markdown",
      "source": [
        "6. **Shipping Cost Calculator:**\n",
        "    - Shipping costs vary based on the weight of a package.\n",
        "    - Weight up to 1kg: $5, Weight 1.1kg-5kg: $10, Weight above 5kg: $20.\n",
        "    - Ask the user for the weight of their package and tell them the shipping cost.\n",
        "\n"
      ],
      "metadata": {
        "id": "vSf3pJOFRVGk"
      }
    },
    {
      "cell_type": "code",
      "source": [
        "inc = int(input(\"Weight of your package(in kg): \"))\n",
        "if inc <= 1:\n",
        "  print(\"Shipping cost: $5\")\n",
        "elif inc <= 5:\n",
        "  print(\"Shipping cost: $10\")\n",
        "else:\n",
        "  print(\"Shipping cost: $20\")"
      ],
      "metadata": {
        "id": "1roU2zvFRWbR",
        "colab": {
          "base_uri": "https://localhost:8080/"
        },
        "outputId": "dae878bc-1575-473e-d7ac-159e0b55e53e"
      },
      "execution_count": null,
      "outputs": [
        {
          "output_type": "stream",
          "name": "stdout",
          "text": [
            "Weight of your package(in kg): 1\n",
            "Shipping cost: $5\n"
          ]
        }
      ]
    },
    {
      "cell_type": "markdown",
      "source": [
        "7. **Drink Selector:**\n",
        "    - Ask the user for their age.\n",
        "    - If they are under 18, suggest a non-alcoholic drink (like juice or soda). If they are 18 and above, suggest an alcoholic beverage (like wine or beer)."
      ],
      "metadata": {
        "id": "WXtyKwyYRWzS"
      }
    },
    {
      "cell_type": "code",
      "source": [
        "import random\n",
        "non_alc = [\"juice\", \"soda\", \"milk\"]\n",
        "alc = [\"whiskey\", \"souju\", \"beer\"]\n",
        "\n",
        "inc = int(input(\"Age: \"))\n",
        "if inc < 18:\n",
        "  print(\"I would suggest a non-alcoholic drink like\", random.choice(non_alc))\n",
        "else:\n",
        "  print(\"I would suggest an alcoholic drink like\", random.choice(alc))"
      ],
      "metadata": {
        "id": "iG4YUGa5RXeM",
        "colab": {
          "base_uri": "https://localhost:8080/"
        },
        "outputId": "9567f3e0-6e87-4f3a-f606-98af6abe84a4"
      },
      "execution_count": null,
      "outputs": [
        {
          "output_type": "stream",
          "name": "stdout",
          "text": [
            "Age: 18\n",
            "I would suggest an alcoholic drink like whiskey\n"
          ]
        }
      ]
    }
  ]
}