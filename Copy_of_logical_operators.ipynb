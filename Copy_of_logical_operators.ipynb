{
  "nbformat": 4,
  "nbformat_minor": 0,
  "metadata": {
    "colab": {
      "provenance": [],
      "include_colab_link": true
    },
    "kernelspec": {
      "name": "python3",
      "display_name": "Python 3"
    },
    "language_info": {
      "name": "python"
    }
  },
  "cells": [
    {
      "cell_type": "markdown",
      "metadata": {
        "id": "view-in-github",
        "colab_type": "text"
      },
      "source": [
        "<a href=\"https://colab.research.google.com/github/Kerdis/CSA_REP/blob/main/Copy_of_logical_operators.ipynb\" target=\"_parent\"><img src=\"https://colab.research.google.com/assets/colab-badge.svg\" alt=\"Open In Colab\"/></a>"
      ]
    },
    {
      "cell_type": "markdown",
      "source": [
        "\n",
        "### **Logical Operators**\n",
        "\n",
        "Logical operators are used to combine conditional statements.\n",
        "\n",
        "**1. `and` Operator:**\n",
        "- Returns `True` if both statements are true.\n",
        "  \n",
        "  **Example:**\n",
        "  ```python\n",
        "  age = 25\n",
        "  if age > 18 and age < 30:\n",
        "      print(\"You are a young adult.\")\n",
        "  ```\n",
        "\n",
        "**2. `or` Operator:**\n",
        "- Returns `True` if at least one of the statements is true.\n",
        "  \n",
        "  **Example:**\n",
        "  ```python\n",
        "  day = \"Sunday\"\n",
        "  if day == \"Saturday\" or day == \"Sunday\":\n",
        "      print(\"It's the weekend!\")\n",
        "  ```\n",
        "\n",
        "**3. `not` Operator:**\n",
        "- Used to reverse the result; returns `False` if the result is true and vice versa.\n",
        "  \n",
        "  **Example:**\n",
        "  ```python\n",
        "  is_raining = False\n",
        "  if not is_raining:\n",
        "      print(\"It's a sunny day!\")\n",
        "  ```\n",
        "\n",
        "---\n",
        "\n",
        "### **Nested Conditional Statements**\n",
        "\n",
        "Sometimes, you may want to evaluate a condition inside another condition. This is referred to as nesting.\n",
        "\n",
        "**Example:**\n",
        "```python\n",
        "age = 25\n",
        "gender = \"Female\"\n",
        "if age < 30:\n",
        "    if gender == \"Female\":\n",
        "        print(\"Young female.\")\n",
        "    else:\n",
        "        print(\"Young male.\")\n",
        "else:\n",
        "    if gender == \"Female\":\n",
        "        print(\"Mature female.\")\n",
        "    else:\n",
        "        print(\"Mature male.\")\n",
        "```\n",
        "\n",
        "In the example above, the outer `if` checks the age, and the inner `if` checks the gender, leading to more precise classifications.\n",
        "\n"
      ],
      "metadata": {
        "id": "_J_0H623DMoG"
      }
    },
    {
      "cell_type": "code",
      "source": [
        "#Test the examples above here\n",
        "age = 25\n",
        "gender = \"Female\"\n",
        "if age < 30:\n",
        "    if gender == \"Female\":\n",
        "        print(\"Young female.\")\n",
        "    else:\n",
        "        print(\"Young male.\")\n",
        "else:\n",
        "    if gender == \"Female\":\n",
        "        print(\"Mature female.\")\n",
        "    else:\n",
        "        print(\"Mature male.\")"
      ],
      "metadata": {
        "id": "1tzurxbLDYuS",
        "colab": {
          "base_uri": "https://localhost:8080/"
        },
        "outputId": "4d711571-b6cb-45d1-c631-44a3f9183113"
      },
      "execution_count": 1,
      "outputs": [
        {
          "output_type": "stream",
          "name": "stdout",
          "text": [
            "Young female.\n"
          ]
        }
      ]
    },
    {
      "cell_type": "markdown",
      "source": [
        "### **Practice Exercises:**\n",
        "\n",
        "1. **Temperature Alert:**\n",
        "   - Ask the user for the current temperature and if it's raining (yes/no).\n",
        "   - If it's above 30°C and not raining, suggest wearing sunscreen. If it's below 30°C and raining, suggest taking an umbrella.\n",
        "\n",
        "\n",
        "\n"
      ],
      "metadata": {
        "id": "_2pb9LXWDcXE"
      }
    },
    {
      "cell_type": "code",
      "source": [
        "#Ex1\n",
        "temp = int(input(\"What is the current temperature? (in celcius) \"))\n",
        "rain = input(\"Is it raining? \")\n",
        "if temp > 30 and rain == \"no\":\n",
        "  print(\"I suggest wearing suncreen.\")\n",
        "elif temp < 30 and rain == \"yes\":\n",
        "  print(\"I suggest taking an umbrella.\")\n",
        "else: (\"I don't understand\")\n",
        "\n",
        "\n"
      ],
      "metadata": {
        "id": "AyCFWr2cDiuz",
        "colab": {
          "base_uri": "https://localhost:8080/"
        },
        "outputId": "eb8404a9-8908-49a1-836d-038f90ef4522"
      },
      "execution_count": 4,
      "outputs": [
        {
          "output_type": "stream",
          "name": "stdout",
          "text": [
            "What is the current temperature? (in celcius) 29\n",
            "Is it raining? yes\n",
            "I suggest taking an umbrella.\n"
          ]
        }
      ]
    },
    {
      "cell_type": "markdown",
      "source": [
        "2. **Movie Night:**\n",
        "   - Ask the user if they like action movies and if they like romantic movies.\n",
        "   - Recommend a movie based on their preferences:\n",
        "     - Action and romance: \"Mr. & Mrs. Smith\",\n",
        "     - Only action: \"Die Hard\",\n",
        "     - Only romance: \"Pride and Prejudice\",\n",
        "     - Neither: \"Try watching a documentary!\"\n",
        "\n"
      ],
      "metadata": {
        "id": "hne5hxgMDj0i"
      }
    },
    {
      "cell_type": "code",
      "source": [
        "#Ex2\n",
        "mov = input(\"Do you like action or romantic movies? \")\n",
        "if mov == \"action\":\n",
        "  print(\"I recommend Die Hard.\")\n",
        "elif mov == \"romance\":\n",
        "  print(\"I recommend Pride and Prejudice.\")\n",
        "elif mov == \"both\":\n",
        "  print(\"I recomend Mr. & Mrs. Smith.\")\n",
        "else:\n",
        "  print(\"Try watching a documentary.\")\n"
      ],
      "metadata": {
        "id": "m13PVPajDlwd",
        "colab": {
          "base_uri": "https://localhost:8080/"
        },
        "outputId": "c2d7101c-8fd3-436c-8b8f-fc3582fb0402"
      },
      "execution_count": 5,
      "outputs": [
        {
          "output_type": "stream",
          "name": "stdout",
          "text": [
            "Do you like action or romantic movies? action\n",
            "I recommend Die Hard.\n"
          ]
        }
      ]
    },
    {
      "cell_type": "markdown",
      "source": [
        "3. **Eligibility for a Credit Card:**\n",
        "   - Ask the user for their age and monthly salary.\n",
        "   - If they are over 18 and earn more than $1,000 per month, inform them they are eligible for a credit card.\n"
      ],
      "metadata": {
        "id": "2DUNWDlsDmzl"
      }
    },
    {
      "cell_type": "code",
      "source": [
        "#Ex3\n",
        "age = int(input(\"Age: \"))\n",
        "sal = int(input(\"Monthly Salary in USD: \"))\n",
        "if age > 18 and sal > 1000:\n",
        "  print(\"You are eligible for a credit card.\")\n",
        "else:\n",
        "  print(\"You are not eligible for a credit card.\")"
      ],
      "metadata": {
        "id": "KiuF2ByZDoZG",
        "colab": {
          "base_uri": "https://localhost:8080/"
        },
        "outputId": "91893eae-6d47-4599-fdcd-ed31c369eba1"
      },
      "execution_count": 6,
      "outputs": [
        {
          "output_type": "stream",
          "name": "stdout",
          "text": [
            "Age: 13\n",
            "Monthly Salary in USD: 1500\n",
            "You are not eligible for a credit card.\n"
          ]
        }
      ]
    },
    {
      "cell_type": "markdown",
      "source": [
        "\n",
        "4. **Nested Age Bracket Classifier:**\n",
        "   - Ask the user for their age and gender.\n",
        "   - Classify them into 'Young/Mature Male/Female' using nested conditional statements.\n"
      ],
      "metadata": {
        "id": "0p0RmJMKDpdG"
      }
    },
    {
      "cell_type": "code",
      "source": [
        "#Ex4\n",
        "age = int(input(\"Age: \"))\n",
        "gender = input(\"Gender: \")\n",
        "if age < 30:\n",
        "    if gender == \"Female\":\n",
        "        print(\"Young female.\")\n",
        "    else:\n",
        "        print(\"Young male.\")\n",
        "else:\n",
        "    if gender == \"Female\":\n",
        "        print(\"Mature female.\")\n",
        "    else:\n",
        "        print(\"Mature male.\")"
      ],
      "metadata": {
        "id": "QSi5-aToDrnK",
        "colab": {
          "base_uri": "https://localhost:8080/"
        },
        "outputId": "5479b3c5-bb97-4637-b910-7287142b4a40"
      },
      "execution_count": 10,
      "outputs": [
        {
          "output_type": "stream",
          "name": "stdout",
          "text": [
            "Age: 31\n",
            "Gender: Female\n",
            "Mature female.\n"
          ]
        }
      ]
    },
    {
      "cell_type": "markdown",
      "source": [
        "\n",
        "5. **Weekend Activity Planner:**\n",
        "   - Ask the user if it's a weekend and if the weather is good.\n",
        "   - Provide activity suggestions based on their answers:\n",
        "     - Weekend and good weather: \"Go for a picnic!\",\n",
        "     - Weekend and bad weather: \"Maybe watch a movie at home?\",\n",
        "     - Weekday and good weather: \"Don't forget your sunglasses on your way to work!\",\n",
        "     - Weekday and bad weather: \"Take an umbrella today.\""
      ],
      "metadata": {
        "id": "tyG7h84BDsrX"
      }
    },
    {
      "cell_type": "code",
      "source": [
        "#Ex5\n",
        "weath = input(\"Is the weather good or bad? \")\n",
        "day = input(\"Is it a weekend or weekday? \")\n",
        "if weath == \"good\":\n",
        "  if day == \"weekend\":\n",
        "    print(\"Go for a picnic!\")\n",
        "  else:\n",
        "    print(\"Don't forget your sunglasses on your way to work!\")\n",
        "else:\n",
        "  if day == \"weekday\":\n",
        "    print(\"Take an umbrella today.\")\n",
        "  else:\n",
        "    print(\"Maybe watch a movie at home? \")\n",
        "\n",
        "\n"
      ],
      "metadata": {
        "id": "7q-ze3tCDtgQ",
        "colab": {
          "base_uri": "https://localhost:8080/"
        },
        "outputId": "542a00d9-2da5-4dc8-ad20-9fc93cd8c6ff"
      },
      "execution_count": 24,
      "outputs": [
        {
          "output_type": "stream",
          "name": "stdout",
          "text": [
            "Is the weather good or bad? good\n",
            "Is it a weekend or weekday? weekday\n",
            "Don't forget your sunglasses on your way to work!\n"
          ]
        }
      ]
    }
  ]
}