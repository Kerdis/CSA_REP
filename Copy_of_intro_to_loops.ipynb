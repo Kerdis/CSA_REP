{
  "nbformat": 4,
  "nbformat_minor": 0,
  "metadata": {
    "colab": {
      "provenance": [],
      "include_colab_link": true
    },
    "kernelspec": {
      "name": "python3",
      "display_name": "Python 3"
    },
    "language_info": {
      "name": "python"
    }
  },
  "cells": [
    {
      "cell_type": "markdown",
      "metadata": {
        "id": "view-in-github",
        "colab_type": "text"
      },
      "source": [
        "<a href=\"https://colab.research.google.com/github/Kerdis/CSA_REP/blob/main/Copy_of_intro_to_loops.ipynb\" target=\"_parent\"><img src=\"https://colab.research.google.com/assets/colab-badge.svg\" alt=\"Open In Colab\"/></a>"
      ]
    },
    {
      "cell_type": "markdown",
      "source": [
        "\n",
        "### **Introduction to Loops**\n",
        "\n",
        "In programming, loops offer a way to perform a set of instructions repeatedly. They are fundamental for tasks that require the same action to be taken on a series of items, or for actions to be repeated until a certain condition is met.\n",
        "\n",
        "---\n",
        "\n",
        "### **Understanding the `while` Loop and its Applications**\n",
        "\n",
        "The `while` loop executes a block of code as long as a specified condition remains `True`.\n",
        "\n",
        "**Basic Syntax:**\n",
        "```python\n",
        "while condition:\n",
        "    # body of the loop\n",
        "```\n",
        "\n",
        "**Example:**\n",
        "```python\n",
        "count = 0\n",
        "while count < 5:\n",
        "    print(count)\n",
        "    count += 1\n",
        "```\n",
        "\n",
        "In the above example, the loop will print numbers from 0 to 4. The loop continues as long as `count` is less than 5.\n",
        "\n",
        "**Applications:**\n",
        "1. **Repeating an action** until a user decides to quit.\n",
        "2. **Waiting for an external condition** to change (e.g., waiting for user input).\n",
        "3. **Polling:** Checking repeatedly if a resource is available or a task is completed.\n",
        "\n",
        "---\n",
        "\n",
        "### **Creating Counters and Accumulators**\n",
        "\n",
        "**1. Counters:**\n",
        "A counter is a variable that is incremented or decremented with each iteration of a loop.\n",
        "\n",
        "**Example:**\n",
        "```python\n",
        "# Counting how many times a loop runs\n",
        "count = 0\n",
        "while count < 10:\n",
        "    print(\"Loop iteration:\", count)\n",
        "    count += 1\n",
        "```\n",
        "\n",
        "**2. Accumulators:**\n",
        "An accumulator is a variable that collects or accumulates a value over time within a loop.\n",
        "\n",
        "**Example:**\n",
        "```python\n",
        "# Summing numbers from 1 to 5\n",
        "total = 0\n",
        "number = 1\n",
        "while number <= 5:\n",
        "    total += number\n",
        "    number += 1\n",
        "print(\"Total sum:\", total)\n",
        "```\n",
        "\n",
        "In the above example, `total` is an accumulator that collects the sum of numbers from 1 to 5.\n",
        "\n",
        "\n"
      ],
      "metadata": {
        "id": "a2Db_gg2H9l2"
      }
    },
    {
      "cell_type": "code",
      "source": [
        "#Play around with the examples in this cell\n",
        "total = 0\n",
        "number = 1\n",
        "while number <= 5:\n",
        "    total = total + number\n",
        "    number += 1\n",
        "print(\"Total sum:\", total)"
      ],
      "metadata": {
        "id": "ixvEg1OJI0vm",
        "colab": {
          "base_uri": "https://localhost:8080/"
        },
        "outputId": "07b02257-553d-4057-d567-45ae54dcc081"
      },
      "execution_count": null,
      "outputs": [
        {
          "output_type": "stream",
          "name": "stdout",
          "text": [
            "Total sum: 15\n"
          ]
        }
      ]
    },
    {
      "cell_type": "markdown",
      "source": [
        "---\n",
        "\n",
        "### **Practice Exercises:**\n",
        "\n",
        "1. **Positive Number Collector:** Ask the user to keep entering numbers. Stop when they enter a negative number and display the sum of all positive numbers entered.\n"
      ],
      "metadata": {
        "id": "icvXf-Q8I4tF"
      }
    },
    {
      "cell_type": "code",
      "source": [
        "#Ex1\n",
        "total = 0\n",
        "\n",
        "numb = int(input(\"Enter a number: \"))\n",
        "while numb > 0:\n",
        "  total += numb\n",
        "  numb = int(input(\"Enter a number: \"))\n",
        "\n",
        "print(\"Sum of all positive numbers: \", total)\n",
        "\n"
      ],
      "metadata": {
        "id": "HWqs6QFuI6Pd",
        "colab": {
          "base_uri": "https://localhost:8080/"
        },
        "outputId": "0196571b-9e63-4acc-8797-1f05aa8a52d3"
      },
      "execution_count": null,
      "outputs": [
        {
          "output_type": "stream",
          "name": "stdout",
          "text": [
            "Enter a number: 3\n",
            "Enter a number: 3\n",
            "Enter a number: 3\n",
            "Enter a number: 3\n",
            "Enter a number: -13\n",
            "Sum of all positive numbers:  12\n"
          ]
        }
      ]
    },
    {
      "cell_type": "markdown",
      "source": [
        "2. **Guessing Game:** Think of a number between 1 and 10. Allow the user to guess until they get the right number.\n"
      ],
      "metadata": {
        "id": "-_u-1EvmI8Dj"
      }
    },
    {
      "cell_type": "code",
      "source": [
        "#Ex2\n",
        "import random\n",
        "\n",
        "num = int(input(\"Guess a number between 1-10: \"))\n",
        "num_list = [1,2,3,4,5,6,7,8,9,10]\n",
        "\n",
        "while random.choice(num_list) != num:\n",
        "  print(\"Try Again!\")\n",
        "  num = int(input(\"Guess a number between 1-10: \"))\n",
        "\n",
        "print(\"You got it!\")\n",
        "\n"
      ],
      "metadata": {
        "id": "pmd2ui8UI9nI",
        "colab": {
          "base_uri": "https://localhost:8080/"
        },
        "outputId": "24856fdc-a60b-4dc5-92cf-74b717ccf972"
      },
      "execution_count": null,
      "outputs": [
        {
          "output_type": "stream",
          "name": "stdout",
          "text": [
            "Guess a number between 1-10: 2\n",
            "Try Again!\n",
            "Guess a number between 1-10: 5\n",
            "Try Again!\n",
            "Guess a number between 1-10: 6\n",
            "Try Again!\n",
            "Guess a number between 1-10: 7\n",
            "Try Again!\n",
            "Guess a number between 1-10: 3\n",
            "Try Again!\n",
            "Guess a number between 1-10: 4\n",
            "Try Again!\n",
            "Guess a number between 1-10: 5\n",
            "You got it!\n"
          ]
        }
      ]
    },
    {
      "cell_type": "markdown",
      "source": [
        "3. **Exponential Growth:** Given a number, keep multiplying it by 2 until it exceeds 1000. Count how many multiplications were needed.\n"
      ],
      "metadata": {
        "id": "sMHpPBRQI_Kh"
      }
    },
    {
      "cell_type": "code",
      "source": [
        "#Ex3\n",
        "total = 0\n",
        "count = 0\n",
        "num = int(input(\"Give a num: \"))\n",
        "\n",
        "while total < 1000:\n",
        "  num *= 2\n",
        "  total += num\n",
        "  count += 1\n",
        "\n",
        "print(total)\n",
        "print(count, \"multiplications were needed\")\n"
      ],
      "metadata": {
        "id": "5ueHSVhEJA5S",
        "colab": {
          "base_uri": "https://localhost:8080/"
        },
        "outputId": "82206a64-54b2-49d4-95d2-e7d579cc637e"
      },
      "execution_count": null,
      "outputs": [
        {
          "output_type": "stream",
          "name": "stdout",
          "text": [
            "Give a num: 2\n",
            "1020\n",
            "8 multiplications were needed\n"
          ]
        }
      ]
    },
    {
      "cell_type": "markdown",
      "source": [
        "4. **Password Retry:** Allow a user 3 attempts to enter a correct password.\n"
      ],
      "metadata": {
        "id": "R37qmrpgJCZY"
      }
    },
    {
      "cell_type": "code",
      "source": [
        "#Ex4\n",
        "password = \"Omg1234\"\n",
        "count = 3\n",
        "\n",
        "while count > 0:\n",
        "  guess = input(\"Enter password: \")\n",
        "  if guess == password:\n",
        "    print(\"Correct!\")\n",
        "    break\n",
        "  else:\n",
        "    print(\"Try again!\")\n",
        "    count -= 1\n",
        "\n",
        "\n",
        "\n"
      ],
      "metadata": {
        "id": "-mVz_khOJDt3",
        "colab": {
          "base_uri": "https://localhost:8080/"
        },
        "outputId": "b2d2ab73-d526-4543-ffa3-f27b4190f594"
      },
      "execution_count": null,
      "outputs": [
        {
          "output_type": "stream",
          "name": "stdout",
          "text": [
            "Enter password: Omg1234\n",
            "Correct!\n"
          ]
        }
      ]
    },
    {
      "cell_type": "markdown",
      "source": [
        "5. **Interest Calculator:** If you invest $100 at a 5% annual interest rate, how many years will it take for the money to double using compound interest?\n"
      ],
      "metadata": {
        "id": "xE9VCCIPJEtP"
      }
    },
    {
      "cell_type": "code",
      "source": [
        "#Ex5\n",
        "num = 100\n",
        "count = 0\n",
        "\n",
        "while num < 200:\n",
        "  num *= 1.05\n",
        "  count += 1\n",
        "\n",
        "print(count)\n"
      ],
      "metadata": {
        "id": "_muBoRqzJGB3",
        "colab": {
          "base_uri": "https://localhost:8080/"
        },
        "outputId": "2c26a777-ae2e-470b-ea2b-904cf68609f4"
      },
      "execution_count": 1,
      "outputs": [
        {
          "output_type": "stream",
          "name": "stdout",
          "text": [
            "15\n"
          ]
        }
      ]
    },
    {
      "cell_type": "markdown",
      "source": [
        "6. **Number of Divisors:** For a given number, find out how many divisors it has.\n"
      ],
      "metadata": {
        "id": "UGn7LFPyJHUi"
      }
    },
    {
      "cell_type": "code",
      "source": [
        "#Ex6\n",
        "num = 20\n",
        "count = 0\n",
        "for i in range(1, num + 1):\n",
        "    if num % i == 0:\n",
        "        count += 1\n",
        "        print(count)"
      ],
      "metadata": {
        "id": "50u_gFOuJJBB",
        "colab": {
          "base_uri": "https://localhost:8080/"
        },
        "outputId": "6b9a9823-9279-428c-874f-5301b0363c68"
      },
      "execution_count": 15,
      "outputs": [
        {
          "output_type": "stream",
          "name": "stdout",
          "text": [
            "1\n",
            "2\n",
            "3\n",
            "4\n",
            "5\n",
            "6\n"
          ]
        }
      ]
    },
    {
      "cell_type": "markdown",
      "source": [
        "7. **User Input Collector:** Keep asking the user for input until they type \"exit\" or \"quit\".\n"
      ],
      "metadata": {
        "id": "LAoVS7NyJLDl"
      }
    },
    {
      "cell_type": "code",
      "source": [
        "#Ex7\n",
        "word1 = \"exit\"\n",
        "word2 = \"quit\"\n",
        "ans = input(\"Input a random word: \")\n",
        "\n",
        "while ans != word1 and ans != word2:\n",
        "  ans = input(\"Input a random word: \")\n",
        "\n",
        "print(\"Application closed!\")"
      ],
      "metadata": {
        "id": "51EYMHtzJMVE",
        "colab": {
          "base_uri": "https://localhost:8080/"
        },
        "outputId": "fd857b7c-1bbf-445f-88b5-49200579a572"
      },
      "execution_count": 8,
      "outputs": [
        {
          "output_type": "stream",
          "name": "stdout",
          "text": [
            "Input a random word: quit\n",
            "Application closed!\n"
          ]
        }
      ]
    },
    {
      "cell_type": "markdown",
      "source": [
        "8. **Factorial Calculator:** Calculate the factorial of a number using a loop.\n"
      ],
      "metadata": {
        "id": "-Bmx7J87JOFD"
      }
    },
    {
      "cell_type": "code",
      "source": [
        "#Ex8\n",
        "num = int(input(\"Give me a number \"))\n",
        "fac = num\n",
        "\n",
        "while num > 1:\n",
        "  fac -= 1\n",
        "  num *= fac\n",
        "  if fac == 1:\n",
        "    break\n",
        "\n",
        "print(\"The number's factorial is\", num)"
      ],
      "metadata": {
        "id": "i_Ai-9CpJPf3",
        "colab": {
          "base_uri": "https://localhost:8080/"
        },
        "outputId": "fd194ae8-567d-4391-fbac-40253f8bf6d5"
      },
      "execution_count": 1,
      "outputs": [
        {
          "output_type": "stream",
          "name": "stdout",
          "text": [
            "Give me a number 9\n",
            "The number's factorial is 362880\n"
          ]
        }
      ]
    },
    {
      "cell_type": "markdown",
      "source": [
        "9. **Fibonacci Sequence:** Generate the first N numbers of the Fibonacci sequence.\n"
      ],
      "metadata": {
        "id": "DC6RN9NGJQpX"
      }
    },
    {
      "cell_type": "code",
      "source": [
        "#Ex9\n",
        "num = int(input(\"Give me a number \"))\n",
        "count = 0\n",
        "num1 = 0\n",
        "num2 = 1\n",
        "while count < num:\n",
        "  print(num1)\n",
        "  num3 = num1+num2\n",
        "  num1 = num2\n",
        "  num2 = num3\n",
        "  count += 1"
      ],
      "metadata": {
        "id": "6RV7fRW9JR-b",
        "colab": {
          "base_uri": "https://localhost:8080/"
        },
        "outputId": "b2f803d4-6217-4814-84e8-023a039393ab"
      },
      "execution_count": 2,
      "outputs": [
        {
          "output_type": "stream",
          "name": "stdout",
          "text": [
            "Give me a number 8\n",
            "0\n",
            "1\n",
            "1\n",
            "2\n",
            "3\n",
            "5\n",
            "8\n",
            "13\n"
          ]
        }
      ]
    },
    {
      "cell_type": "markdown",
      "source": [
        "10. **Decreasing Counter:** Start from 100 and count down by sevens. Stop if the number goes negative."
      ],
      "metadata": {
        "id": "dnX8zfHcJTXi"
      }
    },
    {
      "cell_type": "code",
      "source": [
        "#Ex10\n",
        "num = 100\n",
        "while num > 0:\n",
        "  print(num)\n",
        "  num -= 7"
      ],
      "metadata": {
        "id": "2bkZxvmIJUHN",
        "colab": {
          "base_uri": "https://localhost:8080/"
        },
        "outputId": "a9b292b8-2df0-4db2-b724-ca13305b89e2"
      },
      "execution_count": 3,
      "outputs": [
        {
          "output_type": "stream",
          "name": "stdout",
          "text": [
            "100\n",
            "93\n",
            "86\n",
            "79\n",
            "72\n",
            "65\n",
            "58\n",
            "51\n",
            "44\n",
            "37\n",
            "30\n",
            "23\n",
            "16\n",
            "9\n",
            "2\n"
          ]
        }
      ]
    }
  ]
}